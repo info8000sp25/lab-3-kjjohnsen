{
 "cells": [
  {
   "cell_type": "markdown",
   "id": "e4f0f0f3-e884-4c48-83d1-85819b9c4380",
   "metadata": {},
   "source": [
    "# Lab 3 \n",
    "<img src=\"headshot.jpeg\" width=100/>\n",
    "\n",
    "Kyle Johnsen"
   ]
  },
  {
   "cell_type": "code",
   "execution_count": 1,
   "id": "5ae1e49d-07cb-4fb5-980d-df4ac4deacfd",
   "metadata": {},
   "outputs": [
    {
     "name": "stdout",
     "output_type": "stream",
     "text": [
      "INFO3287 - Taken: 84, Withdrawn: 13\n",
      "INFO3451 - Taken: 79, Withdrawn: 13\n",
      "INFO8043 - Taken: 87, Withdrawn: 5\n",
      "INFO8130 - Taken: 72, Withdrawn: 12\n",
      "INFO9372 - Taken: 86, Withdrawn: 9\n"
     ]
    }
   ],
   "source": [
    "# Problem 1\n",
    "import os\n",
    "enrollment_folder = \"enrollment_data\"\n",
    "files = os.listdir(enrollment_folder)\n",
    "for file in files:\n",
    "    course_name = file[0:8] # note, would be better to do this with a regular expression, but this is also fine if you know you have such a format\n",
    "    contents = open(enrollment_folder+\"/\"+file).read().strip().split(\"\\n\")\n",
    "    withdrawn = int(contents[0])\n",
    "    taken = len(contents)-1-withdrawn\n",
    "    print(f\"{course_name} - Taken: {taken}, Withdrawn: {withdrawn}\")"
   ]
  },
  {
   "cell_type": "code",
   "execution_count": 2,
   "id": "5944985a-eacf-4905-b77e-43dfa93f113f",
   "metadata": {},
   "outputs": [
    {
     "name": "stdout",
     "output_type": "stream",
     "text": [
      "Number of students who have successfully completed at least one course: 142 [10598252,11187588,11232226 ... 98612453,98697319,99133047 (see students.txt)\n"
     ]
    }
   ],
   "source": [
    "# Problem 2\n",
    "# Note that I am solving it from scratch, not using anything from Problem 1, though the early code is similar\n",
    "import os\n",
    "enrollment_folder = \"enrollment_data\"\n",
    "files = os.listdir(enrollment_folder)\n",
    "successful_students = set()\n",
    "# the strategy is to add  all students that were successful (i.e. not withdrawn) to a list for each course\n",
    "for file in files:\n",
    "    course_name = file[0:8] # note, would be better to do this with a regular expression, but this is also fine if you know you have such a format\n",
    "    contents = open(enrollment_folder+\"/\"+file).read().strip().split(\"\\n\")\n",
    "    withdrawn = int(contents[0])\n",
    "    successful = contents[1:-withdrawn]\n",
    "    successful_students.update(successful) # this will add these students to the set\n",
    "successful_students = sorted(successful_students)\n",
    "print(f\"Number of students who have successfully completed at least one course: {len(successful_students)} [{','.join(successful_students[:3])} ... {','.join(successful_students[-3:])} (see students.txt)\")\n",
    "output_file = open(\"students.txt\",\"w\")\n",
    "output_file.write('\\n'.join(successful_students))\n",
    "output_file.close()"
   ]
  },
  {
   "cell_type": "code",
   "execution_count": 3,
   "id": "37d0f90e-2e1b-45e4-8098-384579d9f4fc",
   "metadata": {},
   "outputs": [
    {
     "name": "stdout",
     "output_type": "stream",
     "text": [
      "Students with multiple withdrawals - 35498062,98257340,82863917\n"
     ]
    }
   ],
   "source": [
    "# Problem 3\n",
    "import os\n",
    "enrollment_folder = \"enrollment_data\"\n",
    "files = os.listdir(enrollment_folder)\n",
    "course_withdrawals = []\n",
    "# the strategy is to add  all students that were successful (i.e. not withdrawn) to a list for each course\n",
    "for file in files:\n",
    "    course_name = file[0:8] # note, would be better to do this with a regular expression, but this is also fine if you know you have such a format\n",
    "    contents = open(enrollment_folder+\"/\"+file).read().strip().split(\"\\n\")\n",
    "    withdrawn = int(contents[0])\n",
    "    withdrawn_students = set(contents[-withdrawn:])\n",
    "    course_withdrawals.append(withdrawn_students)\n",
    "    \n",
    "# now we do a double loop, so we can use set operations, because in order to have multiple withdrawals, there must be an overlap in withdrawals between two courses\n",
    "multiple_withdrawals = set()\n",
    "for ws1 in course_withdrawals:\n",
    "    for ws2 in course_withdrawals:\n",
    "        if ws1 == ws2: continue \n",
    "        overlap = ws1.intersection(ws2)\n",
    "        multiple_withdrawals.update(overlap)\n",
    "print(f\"Students with multiple withdrawals - {','.join(multiple_withdrawals)}\")\n",
    "        "
   ]
  },
  {
   "cell_type": "code",
   "execution_count": 4,
   "id": "aa07a414-9aa2-486e-8a7b-b2747f6e25a5",
   "metadata": {},
   "outputs": [
    {
     "name": "stdout",
     "output_type": "stream",
     "text": [
      "150\n"
     ]
    }
   ],
   "source": [
    "# Problem 4 part 1\n",
    "student_info = {}\n",
    "import os\n",
    "enrollment_folder = \"enrollment_data\"\n",
    "files = os.listdir(enrollment_folder)\n",
    "course_withdrawals = []\n",
    "# the strategy is to add  all students that were successful (i.e. not withdrawn) to a list for each course\n",
    "for file in files:\n",
    "    course_name = file[0:8] # note, would be better to do this with a regular expression, but this is also fine if you know you have such a format\n",
    "    contents = open(enrollment_folder+\"/\"+file).read().strip().split(\"\\n\")\n",
    "    withdrawn = int(contents[0])\n",
    "    successful = contents[1:-withdrawn]\n",
    "    unsuccessful = contents[-withdrawn:]\n",
    "    for student in unsuccessful:\n",
    "        if student in student_info:\n",
    "            student_info[student][\"withdrawn\"].append(course_name)\n",
    "        else:\n",
    "            student_info[student] = {\"withdrawn\":[course_name],\"passed\":[]}\n",
    "    for student in successful:\n",
    "        if student in student_info:\n",
    "            student_info[student][\"passed\"].append(course_name)\n",
    "        else:\n",
    "            student_info[student] = {\"withdrawn\":[],\"passed\":[course_name]}\n",
    "print(len(student_info))"
   ]
  },
  {
   "cell_type": "code",
   "execution_count": 5,
   "id": "e11e713c-2883-47df-939a-2ac61b54281e",
   "metadata": {},
   "outputs": [
    {
     "name": "stdin",
     "output_type": "stream",
     "text": [
      "Please enter the student you wish to search for:  35498062\n"
     ]
    },
    {
     "name": "stdout",
     "output_type": "stream",
     "text": [
      "\n",
      "searching ... found! Here is the information for student 35498062\n",
      "\n",
      "Courses passed: INFO8043,INFO9372\n",
      "Courses withdrawn: INFO3451,INFO8130\n"
     ]
    }
   ],
   "source": [
    "# Problem 4 Part 2\n",
    "entry = input(\"Please enter the student you wish to search for: \").strip()\n",
    "print(\"\\nsearching ... \",end=\"\")\n",
    "if entry in student_info:\n",
    "    print(f\"found! Here is the information for student {entry}\\n\")\n",
    "    print(f\"Courses passed: {','.join(student_info[entry]['passed'])}\")\n",
    "    print(f\"Courses withdrawn: {','.join(student_info[entry]['withdrawn'])}\")\n",
    "else: \n",
    "    print(\"not found.\")"
   ]
  },
  {
   "cell_type": "code",
   "execution_count": 15,
   "id": "b4e28713-effb-4618-bc7a-10036c59d700",
   "metadata": {},
   "outputs": [
    {
     "name": "stdout",
     "output_type": "stream",
     "text": [
      "INFO3287: 9\n",
      "INFO3451: 5\n",
      "INFO8043: 5\n",
      "INFO8130: 4\n",
      "INFO9372: 7\n",
      "INFO3287,INFO9372: 7\n",
      "INFO3287,INFO8043: 2\n",
      "INFO3287,INFO3451: 6\n",
      "INFO3287,INFO8130: 3\n",
      "INFO3451,INFO8043: 4\n",
      "INFO3451,INFO8130: 4\n",
      "INFO3451,INFO9372: 2\n",
      "INFO8043,INFO9372: 2\n",
      "INFO8043,INFO8130: 1\n",
      "INFO3287,INFO8130,INFO9372: 1\n",
      "INFO3287,INFO3451,INFO8043: 2\n",
      "INFO3287,INFO8043,INFO9372: 6\n",
      "INFO3287,INFO8043,INFO8130: 2\n",
      "INFO3287,INFO3451,INFO9372: 2\n",
      "INFO3451,INFO8043,INFO9372: 5\n",
      "INFO3451,INFO8043,INFO8130: 1\n",
      "INFO3451,INFO8130,INFO9372: 1\n",
      "INFO8043,INFO8130,INFO9372: 4\n",
      "INFO3287,INFO3451,INFO8043,INFO8130: 7\n",
      "INFO3287,INFO3451,INFO8130,INFO9372: 7\n",
      "INFO3287,INFO8043,INFO8130,INFO9372: 5\n",
      "INFO3287,INFO3451,INFO8043,INFO9372: 2\n",
      "INFO3451,INFO8043,INFO8130,INFO9372: 8\n",
      "INFO3287,INFO3451,INFO8043,INFO8130,INFO9372: 36\n"
     ]
    }
   ],
   "source": [
    "# Problem 5\n",
    "taken_together = {}\n",
    "for key,value in student_info.items():\n",
    "    all_courses = tuple(sorted(value['passed'] + value['withdrawn']))\n",
    "    if all_courses in taken_together:\n",
    "        taken_together[all_courses].append(key)\n",
    "    else:\n",
    "        taken_together[all_courses] = [key]\n",
    "\n",
    "for key,value in sorted(taken_together.items(),key=lambda x: len(x[0])):\n",
    "    print(f\"{','.join(key)}: {len(value)}\")\n"
   ]
  },
  {
   "cell_type": "code",
   "execution_count": null,
   "id": "34b66049-b4a9-4792-b64a-6125192318ac",
   "metadata": {},
   "outputs": [],
   "source": []
  }
 ],
 "metadata": {
  "kernelspec": {
   "display_name": "Python 3 (ipykernel)",
   "language": "python",
   "name": "python3"
  },
  "language_info": {
   "codemirror_mode": {
    "name": "ipython",
    "version": 3
   },
   "file_extension": ".py",
   "mimetype": "text/x-python",
   "name": "python",
   "nbconvert_exporter": "python",
   "pygments_lexer": "ipython3",
   "version": "3.12.8"
  }
 },
 "nbformat": 4,
 "nbformat_minor": 5
}
